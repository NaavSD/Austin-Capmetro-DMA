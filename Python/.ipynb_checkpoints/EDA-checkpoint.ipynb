{
 "cells": [
  {
   "cell_type": "markdown",
   "id": "945ccbc2",
   "metadata": {},
   "source": [
    "# Exploratory Analysis\n",
    "### The following code is for exploratory analysis of Capital Metro Austin vehicle location data."
   ]
  },
  {
   "cell_type": "code",
   "execution_count": 24,
   "id": "3a20e99c",
   "metadata": {},
   "outputs": [],
   "source": [
    "# import useful libraries\n",
    "import os\n",
    "import glob\n",
    "from datetime import datetime\n",
    "import numpy as np\n",
    "import matplotlib.pyplot as plt\n",
    "import pandas as pd\n",
    "import geopandas as gpd\n",
    "from dateutil.relativedelta import relativedelta as rdelta\n",
    "import contextily as ctx\n",
    "import hvplot.pandas\n",
    "import warnings"
   ]
  },
  {
   "cell_type": "code",
   "execution_count": 66,
   "id": "d2c5d8ef",
   "metadata": {},
   "outputs": [],
   "source": [
    "# Pull data from csv files\n",
    "\n",
    "path = r'../00_Source_Data/Vehicle_Location_History' # use your path\n",
    "all_files = glob.glob(os.path.join(path , \"*.csv\"))\n",
    "\n",
    "li = []\n",
    "\n",
    "with warnings.catch_warnings():\n",
    "    warnings.simplefilter('ignore') # ignore dataframe generation warnings\n",
    "    for filename in all_files:\n",
    "        df = pd.read_csv(filename, index_col=None, header=0)\n",
    "        li.append(df)\n",
    "\n",
    "frame = pd.concat(li, axis=0, ignore_index=True)"
   ]
  },
  {
   "cell_type": "code",
   "execution_count": 68,
   "id": "e5ebc17e",
   "metadata": {},
   "outputs": [
    {
     "data": {
      "text/plain": [
       "Index(['blockassignmentinfo', 'blockid', 'blockmthd', 'directionid',\n",
       "       'distancealongstoppath', 'driver', 'gtfsstopsequence', 'heading',\n",
       "       'headsign', 'headwaysecs', 'id', 'ispredictable', 'lat', 'lon',\n",
       "       'nextstopid', 'nextstopname', 'previousvehicleid',\n",
       "       'previousvehicleschadhsecs', 'previousvehicleschadhstr', 'routeid',\n",
       "       'routename', 'routeshortname', 'schadhsecs', 'schadhstr',\n",
       "       'scheduledheadwaysecs', 'servicedate', 'serviceid', 'servicename',\n",
       "       'speed', 'stoppathindex', 'timecentral', 'timestamp', 'timeutc',\n",
       "       'tripid', 'trippattern', 'vehicletype', 'year', 'month', '_Start_Date',\n",
       "       '_End_Date'],\n",
       "      dtype='object')"
      ]
     },
     "execution_count": 68,
     "metadata": {},
     "output_type": "execute_result"
    }
   ],
   "source": [
    "frame.columns"
   ]
  },
  {
   "cell_type": "code",
   "execution_count": 76,
   "id": "d438573f",
   "metadata": {},
   "outputs": [
    {
     "data": {
      "text/plain": [
       "serviceid      \n",
       "1-153_MRG_1        3094741\n",
       "4-153_MRG_1         494169\n",
       "5-153_MRG_1         441311\n",
       "5001-153_MRG_1      207331\n",
       "39101-153            25799\n",
       "55004-153_MRG_1      15288\n",
       "39201-153             8300\n",
       "4-153_MRG_3           5750\n",
       "26201-153             2410\n",
       "26104-153             2089\n",
       "40801-153             1157\n",
       "14001-153              578\n",
       "14101-153              509\n",
       "15504-153              353\n",
       "dtype: int64"
      ]
     },
     "execution_count": 76,
     "metadata": {},
     "output_type": "execute_result"
    }
   ],
   "source": [
    "frame[['serviceid']].value_counts()"
   ]
  },
  {
   "cell_type": "markdown",
   "id": "8627e649",
   "metadata": {},
   "source": [
    "These appear to be the different buses that run the 153 route in Austin. \n",
    "\n",
    "There is some confusion about 4-153_MRG_1 and 4-153_MRG_3 as these may be the same bus.\\\n",
    "Would need to clarify that with Michael Long."
   ]
  },
  {
   "cell_type": "code",
   "execution_count": 81,
   "id": "ee76c8d9",
   "metadata": {},
   "outputs": [
    {
     "data": {
      "text/plain": [
       "routename                  previousvehicleschadhstr\n",
       "10 - South 1st/Red River   0.0 sec (ontime)            39537\n",
       "801 - N Lamar S Congress   0.0 sec (ontime)            31246\n",
       "350 - Airport Blvd         0.0 sec (ontime)            20659\n",
       "322 - Chicon/Cherrywood    0.0 sec (ontime)            18172\n",
       "3 - Burnet/Manchaca        0.0 sec (ontime)            17838\n",
       "                                                       ...  \n",
       "339 - Tuscany              78.2 sec (late)                 1\n",
       "                           78.1 sec (late)                 1\n",
       "                           77.7 sec (late)                 1\n",
       "                           76.6 sec (late)                 1\n",
       "990 - Manor/Elgin Express  5.1 minutes (late)              1\n",
       "Length: 161596, dtype: int64"
      ]
     },
     "execution_count": 81,
     "metadata": {},
     "output_type": "execute_result"
    }
   ],
   "source": [
    "frame[['routename', 'previousvehicleschadhstr']].value_counts()"
   ]
  },
  {
   "cell_type": "code",
   "execution_count": null,
   "id": "aeac2691",
   "metadata": {},
   "outputs": [],
   "source": []
  }
 ],
 "metadata": {
  "kernelspec": {
   "display_name": "geo_env",
   "language": "python",
   "name": "geo_env"
  },
  "language_info": {
   "codemirror_mode": {
    "name": "ipython",
    "version": 3
   },
   "file_extension": ".py",
   "mimetype": "text/x-python",
   "name": "python",
   "nbconvert_exporter": "python",
   "pygments_lexer": "ipython3",
   "version": "3.10.5"
  }
 },
 "nbformat": 4,
 "nbformat_minor": 5
}
