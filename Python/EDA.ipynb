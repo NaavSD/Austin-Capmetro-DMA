{
 "cells": [
  {
   "cell_type": "markdown",
   "id": "4160f5af",
   "metadata": {},
   "source": [
    "# Exploratory Analysis\n",
    "### The following code is for exploratory analysis of Capital Metro Austin vehicle location data."
   ]
  },
  {
   "cell_type": "code",
   "execution_count": 1,
   "id": "0eefe6e0",
   "metadata": {},
   "outputs": [],
   "source": [
    "# import useful libraries\n",
    "import os\n",
    "import glob\n",
    "from datetime import datetime\n",
    "import numpy as np\n",
    "import pandas as pd\n",
    "import warnings"
   ]
  },
  {
   "cell_type": "code",
   "execution_count": 2,
   "id": "ebe28f75",
   "metadata": {},
   "outputs": [],
   "source": [
    "# Pull data from csv files\n",
    "\n",
    "path = r'../00_Source_Data/Capital_Metro/Vehicle_Location_History' # use your path\n",
    "all_files = glob.glob(os.path.join(path , \"*.csv\"))\n",
    "\n",
    "li = []\n",
    "\n",
    "with warnings.catch_warnings():\n",
    "    warnings.simplefilter('ignore') # ignore dataframe generation warnings\n",
    "    for filename in all_files:\n",
    "        df = pd.read_csv(filename, index_col=None, header=0)\n",
    "        li.append(df)\n",
    "        \n",
    "frame = pd.concat(li, axis=0, ignore_index=True)"
   ]
  },
  {
   "cell_type": "code",
   "execution_count": 3,
   "id": "fac985bb",
   "metadata": {
    "scrolled": true
   },
   "outputs": [
    {
     "data": {
      "text/plain": [
       "Index(['blockassignmentinfo', 'blockid', 'blockmthd', 'directionid',\n",
       "       'distancealongstoppath', 'driver', 'gtfsstopsequence', 'heading',\n",
       "       'headsign', 'headwaysecs', 'id', 'ispredictable', 'lat', 'lon',\n",
       "       'nextstopid', 'nextstopname', 'previousvehicleid',\n",
       "       'previousvehicleschadhsecs', 'previousvehicleschadhstr', 'routeid',\n",
       "       'routename', 'routeshortname', 'schadhsecs', 'schadhstr',\n",
       "       'scheduledheadwaysecs', 'servicedate', 'serviceid', 'servicename',\n",
       "       'speed', 'stoppathindex', 'timecentral', 'timestamp', 'timeutc',\n",
       "       'tripid', 'trippattern', 'vehicletype', 'year', 'month', '_Start_Date',\n",
       "       '_End_Date'],\n",
       "      dtype='object')"
      ]
     },
     "execution_count": 3,
     "metadata": {},
     "output_type": "execute_result"
    }
   ],
   "source": [
    "frame.columns"
   ]
  },
  {
   "cell_type": "code",
   "execution_count": 4,
   "id": "622ffeaf",
   "metadata": {},
   "outputs": [
    {
     "data": {
      "text/plain": [
       "nextstopname                     \n",
       "200 Turk/Cullen                      45947\n",
       "ACC Riverside  @ Grove               44566\n",
       "Tech Ridge Bay I                     40809\n",
       "6502 Bluff Springs/William Cannon    36918\n",
       "Westgate Transit Center - A          35753\n",
       "                                     ...  \n",
       "Seminary Ridge/Sweet Clover              5\n",
       "Fenton/Red Willow                        2\n",
       "Curlew/Guidepost                         2\n",
       "Park/Crestview Jonestown                 2\n",
       "Cullen/Slaughter                         1\n",
       "Length: 2319, dtype: int64"
      ]
     },
     "execution_count": 4,
     "metadata": {},
     "output_type": "execute_result"
    }
   ],
   "source": [
    "frame[['nextstopname']].value_counts()"
   ]
  },
  {
   "cell_type": "markdown",
   "id": "08de1d66",
   "metadata": {},
   "source": [
    "Not sure if these service ids are unique to the vehicle. \\\n",
    "There is some confusion about 4-153_MRG_1 and 4-153_MRG_3 as these may be the same bus.\\\n",
    "Would need to clarify definitions with Michael Long."
   ]
  },
  {
   "cell_type": "code",
   "execution_count": 5,
   "id": "b2aaa628",
   "metadata": {},
   "outputs": [
    {
     "data": {
      "text/plain": [
       "routeshortname\n",
       "801.0             324229\n",
       "10.0              275967\n",
       "803.0             263498\n",
       "7.0               239905\n",
       "20.0              229785\n",
       "                   ...  \n",
       "491.0               1976\n",
       "493.0               1157\n",
       "490.0               1087\n",
       "214.0                372\n",
       "990.0                184\n",
       "Length: 76, dtype: int64"
      ]
     },
     "execution_count": 5,
     "metadata": {},
     "output_type": "execute_result"
    }
   ],
   "source": [
    "frame[['routeshortname']].value_counts()"
   ]
  },
  {
   "cell_type": "code",
   "execution_count": 6,
   "id": "7f93fbe9",
   "metadata": {},
   "outputs": [
    {
     "name": "stdout",
     "output_type": "stream",
     "text": [
      "5387.0 , -14412.0\n"
     ]
    }
   ],
   "source": [
    "print(frame[['previousvehicleschadhsecs']].max()[0],',', frame[['previousvehicleschadhsecs']].min()[0])"
   ]
  },
  {
   "cell_type": "code",
   "execution_count": 7,
   "id": "63449e74",
   "metadata": {},
   "outputs": [
    {
     "name": "stdout",
     "output_type": "stream",
     "text": [
      "57840.0 , 12.0\n"
     ]
    }
   ],
   "source": [
    "print(frame[['scheduledheadwaysecs']].max()[0],',', frame[['scheduledheadwaysecs']].min()[0])"
   ]
  },
  {
   "cell_type": "code",
   "execution_count": 8,
   "id": "8764283d",
   "metadata": {},
   "outputs": [
    {
     "data": {
      "text/html": [
       "<div>\n",
       "<style scoped>\n",
       "    .dataframe tbody tr th:only-of-type {\n",
       "        vertical-align: middle;\n",
       "    }\n",
       "\n",
       "    .dataframe tbody tr th {\n",
       "        vertical-align: top;\n",
       "    }\n",
       "\n",
       "    .dataframe thead th {\n",
       "        text-align: right;\n",
       "    }\n",
       "</style>\n",
       "<table border=\"1\" class=\"dataframe\">\n",
       "  <thead>\n",
       "    <tr style=\"text-align: right;\">\n",
       "      <th></th>\n",
       "      <th>timecentral</th>\n",
       "    </tr>\n",
       "  </thead>\n",
       "  <tbody>\n",
       "    <tr>\n",
       "      <th>0</th>\n",
       "      <td>20220619000023</td>\n",
       "    </tr>\n",
       "    <tr>\n",
       "      <th>1</th>\n",
       "      <td>20220619000003</td>\n",
       "    </tr>\n",
       "    <tr>\n",
       "      <th>2</th>\n",
       "      <td>20220619000016</td>\n",
       "    </tr>\n",
       "    <tr>\n",
       "      <th>3</th>\n",
       "      <td>20220619000048</td>\n",
       "    </tr>\n",
       "    <tr>\n",
       "      <th>4</th>\n",
       "      <td>20220619000043</td>\n",
       "    </tr>\n",
       "  </tbody>\n",
       "</table>\n",
       "</div>"
      ],
      "text/plain": [
       "      timecentral\n",
       "0  20220619000023\n",
       "1  20220619000003\n",
       "2  20220619000016\n",
       "3  20220619000048\n",
       "4  20220619000043"
      ]
     },
     "execution_count": 8,
     "metadata": {},
     "output_type": "execute_result"
    }
   ],
   "source": [
    "frame[['timecentral']].head()"
   ]
  },
  {
   "cell_type": "code",
   "execution_count": 9,
   "id": "c645b6be",
   "metadata": {},
   "outputs": [
    {
     "data": {
      "text/plain": [
       "routename                  routeid  routeshortname\n",
       "801 - N Lamar S Congress   801.0    801.0             324229\n",
       "10 - South 1st/Red River   10.0     10.0              275967\n",
       "803 - Burnet/S Lamar       803.0    803.0             263498\n",
       "7 - Duval / Dove Springs   7.0      7.0               239905\n",
       "20 - Manor Rd/Riverside    20.0     20.0              229785\n",
       "                                                       ...  \n",
       "491 - Allandale            491.0    491.0               1976\n",
       "493 - Eastview             493.0    493.0               1157\n",
       "490 - HEB Shuttle          490.0    490.0               1087\n",
       "214 - Northwest Feeder     214.0    214.0                372\n",
       "990 - Manor/Elgin Express  990.0    990.0                184\n",
       "Length: 76, dtype: int64"
      ]
     },
     "execution_count": 9,
     "metadata": {},
     "output_type": "execute_result"
    }
   ],
   "source": [
    "frame[['routename', 'routeid', 'routeshortname']].value_counts()"
   ]
  },
  {
   "cell_type": "code",
   "execution_count": 11,
   "id": "696e55ca",
   "metadata": {},
   "outputs": [
    {
     "data": {
      "text/plain": [
       "5263.0    45947\n",
       "6439.0    44566\n",
       "5304.0    40809\n",
       "5377.0    36918\n",
       "6373.0    35753\n",
       "          ...  \n",
       "4457.0        5\n",
       "2657.0        2\n",
       "4462.0        2\n",
       "2823.0        2\n",
       "5378.0        1\n",
       "Name: nextstopid, Length: 2346, dtype: int64"
      ]
     },
     "execution_count": 11,
     "metadata": {},
     "output_type": "execute_result"
    }
   ],
   "source": [
    "frame['nextstopid'].value_counts()"
   ]
  },
  {
   "cell_type": "markdown",
   "id": "9c85fd63",
   "metadata": {},
   "source": [
    "## EDA Visuals"
   ]
  },
  {
   "cell_type": "code",
   "execution_count": 12,
   "id": "0bab0a73",
   "metadata": {},
   "outputs": [],
   "source": [
    "import matplotlib.pyplot as plt"
   ]
  },
  {
   "cell_type": "code",
   "execution_count": 23,
   "id": "7de5ba4b",
   "metadata": {},
   "outputs": [
    {
     "data": {
      "image/png": "[encoded data removed]",
      "text/plain": [
       "<Figure size 720x360 with 1 Axes>"
      ]
     },
     "metadata": {
      "needs_background": "light"
     },
     "output_type": "display_data"
    }
   ],
   "source": [
    "f,ax = plt.subplots(figsize=(10,5))\n",
    "\n",
    "ax.bar(frame['routename'].value_counts().head(7).index,frame['routename'].value_counts().head(7), label=\"# Entries\")\n",
    "plt.xticks(rotation = 45)\n",
    "plt.title(\"# of Entries per Route\");"
   ]
  },
  {
   "cell_type": "code",
   "execution_count": 25,
   "id": "c20446da",
   "metadata": {},
   "outputs": [],
   "source": [
    "# Save figure\n",
    "f.savefig(\"../Presentation/Visuals/Entries_by_Route.png\", bbox_inches='tight', dpi = 300, transparent=True)\n",
    "f.clf();"
   ]
  },
  {
   "cell_type": "code",
   "execution_count": 66,
   "id": "0f41bbd2",
   "metadata": {},
   "outputs": [],
   "source": [
    "gap_df = frame[frame['routeid'].isin([801,803,10,7,20])][['routeid','headwaysecs', 'scheduledheadwaysecs', 'timecentral']]\n",
    "gap_df['gap'] = abs(gap_df['headwaysecs'] - gap_df['scheduledheadwaysecs'])\n",
    "\n",
    "gap_df['timecentral'] = pd.to_datetime(gap_df['timecentral'], format='%Y%m%d%H%M%S').dt.floor('H')"
   ]
  },
  {
   "cell_type": "code",
   "execution_count": 67,
   "id": "9dbd168d",
   "metadata": {},
   "outputs": [
    {
     "data": {
      "text/html": [
       "<div>\n",
       "<style scoped>\n",
       "    .dataframe tbody tr th:only-of-type {\n",
       "        vertical-align: middle;\n",
       "    }\n",
       "\n",
       "    .dataframe tbody tr th {\n",
       "        vertical-align: top;\n",
       "    }\n",
       "\n",
       "    .dataframe thead th {\n",
       "        text-align: right;\n",
       "    }\n",
       "</style>\n",
       "<table border=\"1\" class=\"dataframe\">\n",
       "  <thead>\n",
       "    <tr style=\"text-align: right;\">\n",
       "      <th></th>\n",
       "      <th>routeid</th>\n",
       "      <th>headwaysecs</th>\n",
       "      <th>scheduledheadwaysecs</th>\n",
       "      <th>timecentral</th>\n",
       "      <th>gap</th>\n",
       "    </tr>\n",
       "  </thead>\n",
       "  <tbody>\n",
       "    <tr>\n",
       "      <th>239</th>\n",
       "      <td>7.0</td>\n",
       "      <td>1419.6</td>\n",
       "      <td>1800.0</td>\n",
       "      <td>2022-06-19 00:00:00</td>\n",
       "      <td>380.4</td>\n",
       "    </tr>\n",
       "    <tr>\n",
       "      <th>240</th>\n",
       "      <td>7.0</td>\n",
       "      <td>1816.8</td>\n",
       "      <td>1800.0</td>\n",
       "      <td>2022-06-19 00:00:00</td>\n",
       "      <td>16.8</td>\n",
       "    </tr>\n",
       "    <tr>\n",
       "      <th>241</th>\n",
       "      <td>7.0</td>\n",
       "      <td>1808.8</td>\n",
       "      <td>1800.0</td>\n",
       "      <td>2022-06-19 00:00:00</td>\n",
       "      <td>8.8</td>\n",
       "    </tr>\n",
       "    <tr>\n",
       "      <th>242</th>\n",
       "      <td>7.0</td>\n",
       "      <td>1417.6</td>\n",
       "      <td>1800.0</td>\n",
       "      <td>2022-06-19 00:00:00</td>\n",
       "      <td>382.4</td>\n",
       "    </tr>\n",
       "    <tr>\n",
       "      <th>243</th>\n",
       "      <td>7.0</td>\n",
       "      <td>1806.7</td>\n",
       "      <td>1800.0</td>\n",
       "      <td>2022-06-19 00:00:00</td>\n",
       "      <td>6.7</td>\n",
       "    </tr>\n",
       "    <tr>\n",
       "      <th>...</th>\n",
       "      <td>...</td>\n",
       "      <td>...</td>\n",
       "      <td>...</td>\n",
       "      <td>...</td>\n",
       "      <td>...</td>\n",
       "    </tr>\n",
       "    <tr>\n",
       "      <th>6214214</th>\n",
       "      <td>803.0</td>\n",
       "      <td>481.3</td>\n",
       "      <td>420.0</td>\n",
       "      <td>2022-06-25 18:00:00</td>\n",
       "      <td>61.3</td>\n",
       "    </tr>\n",
       "    <tr>\n",
       "      <th>6214215</th>\n",
       "      <td>803.0</td>\n",
       "      <td>477.0</td>\n",
       "      <td>420.0</td>\n",
       "      <td>2022-06-25 18:00:00</td>\n",
       "      <td>57.0</td>\n",
       "    </tr>\n",
       "    <tr>\n",
       "      <th>6214216</th>\n",
       "      <td>803.0</td>\n",
       "      <td>463.6</td>\n",
       "      <td>420.0</td>\n",
       "      <td>2022-06-25 18:00:00</td>\n",
       "      <td>43.6</td>\n",
       "    </tr>\n",
       "    <tr>\n",
       "      <th>6214217</th>\n",
       "      <td>803.0</td>\n",
       "      <td>228.8</td>\n",
       "      <td>420.0</td>\n",
       "      <td>2022-06-25 18:00:00</td>\n",
       "      <td>191.2</td>\n",
       "    </tr>\n",
       "    <tr>\n",
       "      <th>6214218</th>\n",
       "      <td>803.0</td>\n",
       "      <td>227.6</td>\n",
       "      <td>420.0</td>\n",
       "      <td>2022-06-25 18:00:00</td>\n",
       "      <td>192.4</td>\n",
       "    </tr>\n",
       "  </tbody>\n",
       "</table>\n",
       "<p>1333384 rows × 5 columns</p>\n",
       "</div>"
      ],
      "text/plain": [
       "         routeid  headwaysecs  scheduledheadwaysecs         timecentral    gap\n",
       "239          7.0       1419.6                1800.0 2022-06-19 00:00:00  380.4\n",
       "240          7.0       1816.8                1800.0 2022-06-19 00:00:00   16.8\n",
       "241          7.0       1808.8                1800.0 2022-06-19 00:00:00    8.8\n",
       "242          7.0       1417.6                1800.0 2022-06-19 00:00:00  382.4\n",
       "243          7.0       1806.7                1800.0 2022-06-19 00:00:00    6.7\n",
       "...          ...          ...                   ...                 ...    ...\n",
       "6214214    803.0        481.3                 420.0 2022-06-25 18:00:00   61.3\n",
       "6214215    803.0        477.0                 420.0 2022-06-25 18:00:00   57.0\n",
       "6214216    803.0        463.6                 420.0 2022-06-25 18:00:00   43.6\n",
       "6214217    803.0        228.8                 420.0 2022-06-25 18:00:00  191.2\n",
       "6214218    803.0        227.6                 420.0 2022-06-25 18:00:00  192.4\n",
       "\n",
       "[1333384 rows x 5 columns]"
      ]
     },
     "execution_count": 67,
     "metadata": {},
     "output_type": "execute_result"
    }
   ],
   "source": [
    "gap_df"
   ]
  },
  {
   "cell_type": "code",
   "execution_count": 68,
   "id": "72554d5e",
   "metadata": {},
   "outputs": [],
   "source": [
    "routes = gap_df['routeid'].unique().tolist()"
   ]
  },
  {
   "cell_type": "code",
   "execution_count": 69,
   "id": "0ebdd305",
   "metadata": {},
   "outputs": [
    {
     "data": {
      "text/plain": [
       "[7.0, 10.0, 20.0, 801.0, 803.0]"
      ]
     },
     "execution_count": 69,
     "metadata": {},
     "output_type": "execute_result"
    }
   ],
   "source": [
    "routes"
   ]
  },
  {
   "cell_type": "code",
   "execution_count": 70,
   "id": "81274e62",
   "metadata": {},
   "outputs": [
    {
     "data": {
      "text/plain": [
       "{7.0:                      count    min     max        mean         std  median  \\\n",
       " timecentral                                                                 \n",
       " 2022-06-19 00:00:00    145    4.1  1609.8  422.560690  303.973697  394.80   \n",
       " 2022-06-19 05:00:00     13  174.2   174.2  174.200000    0.000000  174.20   \n",
       " 2022-06-19 06:00:00    827    0.0  1620.7  206.665417  323.248679  122.60   \n",
       " 2022-06-19 07:00:00   1859    0.1  1568.5  222.286444  221.296921  168.80   \n",
       " 2022-06-19 08:00:00   2128    0.2   993.7  178.321006  150.909982  142.30   \n",
       " ...                    ...    ...     ...         ...         ...     ...   \n",
       " 2022-06-25 19:00:00   1710    0.1  1660.2  277.299240  338.083526  139.10   \n",
       " 2022-06-25 20:00:00   1090    0.6  1461.3  385.034404  398.836310  203.05   \n",
       " 2022-06-25 21:00:00   1014    0.3   579.4  209.038757  122.477715  188.20   \n",
       " 2022-06-25 22:00:00    992    0.1  2287.0  180.147984  208.080922  144.80   \n",
       " 2022-06-25 23:00:00    667    0.6  1980.8  475.134783  576.397351  257.80   \n",
       " \n",
       "                               mad  \n",
       " timecentral                        \n",
       " 2022-06-19 00:00:00  2.580465e+02  \n",
       " 2022-06-19 05:00:00  2.842171e-14  \n",
       " 2022-06-19 06:00:00  1.885893e+02  \n",
       " 2022-06-19 07:00:00  1.613504e+02  \n",
       " 2022-06-19 08:00:00  1.147771e+02  \n",
       " ...                           ...  \n",
       " 2022-06-25 19:00:00  2.560559e+02  \n",
       " 2022-06-25 20:00:00  3.161133e+02  \n",
       " 2022-06-25 21:00:00  9.982808e+01  \n",
       " 2022-06-25 22:00:00  1.172328e+02  \n",
       " 2022-06-25 23:00:00  4.212726e+02  \n",
       " \n",
       " [150 rows x 7 columns],\n",
       " 10.0:                      count    min     max        mean         std  median  \\\n",
       " timecentral                                                                 \n",
       " 2022-06-19 00:00:00    123    1.4   548.5  271.502439  177.209584  305.60   \n",
       " 2022-06-19 05:00:00     33  114.9   171.7  118.342424   13.762972  114.90   \n",
       " 2022-06-19 06:00:00   1056    0.8   630.0  148.376515  113.494443  150.60   \n",
       " 2022-06-19 07:00:00   2100    0.4   841.5  213.498381  199.247255  144.10   \n",
       " 2022-06-19 08:00:00   2254    0.0  1490.1  220.970719  184.381690  181.10   \n",
       " ...                    ...    ...     ...         ...         ...     ...   \n",
       " 2022-06-25 19:00:00   2006    0.5  2189.0  319.064207  286.437940  266.45   \n",
       " 2022-06-25 20:00:00   1132    0.5  1141.5  327.970406  260.594232  331.10   \n",
       " 2022-06-25 21:00:00   1225    0.0   932.1  282.245388  238.502677  248.40   \n",
       " 2022-06-25 22:00:00   1242    0.5  1242.1  298.228744  331.856749  147.90   \n",
       " 2022-06-25 23:00:00    804    0.1   631.2  217.430970  174.192737  179.00   \n",
       " \n",
       "                             mad  \n",
       " timecentral                      \n",
       " 2022-06-19 00:00:00  159.416657  \n",
       " 2022-06-19 05:00:00    6.467585  \n",
       " 2022-06-19 06:00:00   79.546868  \n",
       " 2022-06-19 07:00:00  159.721249  \n",
       " 2022-06-19 08:00:00  146.345854  \n",
       " ...                         ...  \n",
       " 2022-06-25 19:00:00  215.520630  \n",
       " 2022-06-25 20:00:00  203.299629  \n",
       " 2022-06-25 21:00:00  198.527838  \n",
       " 2022-06-25 22:00:00  263.103919  \n",
       " 2022-06-25 23:00:00  139.981418  \n",
       " \n",
       " [150 rows x 7 columns],\n",
       " 20.0:                      count  min     max        mean         std  median  \\\n",
       " timecentral                                                               \n",
       " 2022-06-19 00:00:00     88  0.4   353.5   93.151136   87.845903   64.10   \n",
       " 2022-06-19 05:00:00     14  3.4    13.8   12.650000    2.999167   13.80   \n",
       " 2022-06-19 06:00:00    522  0.1  1066.5  176.754789  325.433114   61.50   \n",
       " 2022-06-19 07:00:00   1263  0.3  1096.3  225.973951  255.391040  121.90   \n",
       " 2022-06-19 08:00:00   1751  0.0   957.5  225.317933  223.279372  146.60   \n",
       " ...                    ...  ...     ...         ...         ...     ...   \n",
       " 2022-06-25 19:00:00   1795  0.1   808.5  162.089916  132.562243  119.80   \n",
       " 2022-06-25 20:00:00   1104  0.2  1712.4  277.809420  243.354900  208.20   \n",
       " 2022-06-25 21:00:00   1088  0.0   943.9  193.235202  187.141968  145.55   \n",
       " 2022-06-25 22:00:00   1007  0.3   906.7  173.710725  169.369647  124.30   \n",
       " 2022-06-25 23:00:00    609  1.6  1534.6  570.157307  393.292605  485.10   \n",
       " \n",
       "                             mad  \n",
       " timecentral                      \n",
       " 2022-06-19 00:00:00   69.042304  \n",
       " 2022-06-19 05:00:00    1.900000  \n",
       " 2022-06-19 06:00:00  209.395860  \n",
       " 2022-06-19 07:00:00  186.830129  \n",
       " 2022-06-19 08:00:00  172.374186  \n",
       " ...                         ...  \n",
       " 2022-06-25 19:00:00  107.867935  \n",
       " 2022-06-25 20:00:00  187.103606  \n",
       " 2022-06-25 21:00:00  137.948365  \n",
       " 2022-06-25 22:00:00  120.882103  \n",
       " 2022-06-25 23:00:00  341.125485  \n",
       " \n",
       " [145 rows x 7 columns],\n",
       " 801.0:                      count   min     max        mean         std  median  \\\n",
       " timecentral                                                                \n",
       " 2022-06-19 00:00:00    130  26.2  1251.0  538.435385  459.798502  259.05   \n",
       " 2022-06-19 05:00:00    237   2.9   322.7   77.466667  100.351729   22.30   \n",
       " 2022-06-19 06:00:00   1394   0.1   866.4  144.010115  161.741143   98.90   \n",
       " 2022-06-19 07:00:00   2135   0.1   967.0  173.163138  188.759596  105.70   \n",
       " 2022-06-19 08:00:00   2113   0.1   906.8  282.674823  231.117618  240.80   \n",
       " ...                    ...   ...     ...         ...         ...     ...   \n",
       " 2022-06-25 19:00:00   2249   0.0  1556.8  376.006447  405.206917  175.00   \n",
       " 2022-06-25 20:00:00   1532   0.4  1637.6  344.406136  391.149089  201.45   \n",
       " 2022-06-25 21:00:00   1594   2.4  1870.6  514.507026  452.755206  407.05   \n",
       " 2022-06-25 22:00:00   1638   4.8  1645.8  561.188645  455.011543  448.55   \n",
       " 2022-06-25 23:00:00   1153   0.2  1906.1  741.110321  410.010489  886.00   \n",
       " \n",
       "                             mad  \n",
       " timecentral                      \n",
       " 2022-06-19 00:00:00  442.412686  \n",
       " 2022-06-19 05:00:00   84.114768  \n",
       " 2022-06-19 06:00:00  104.575033  \n",
       " 2022-06-19 07:00:00  137.802981  \n",
       " 2022-06-19 08:00:00  191.242371  \n",
       " ...                         ...  \n",
       " 2022-06-25 19:00:00  331.387963  \n",
       " 2022-06-25 20:00:00  302.261004  \n",
       " 2022-06-25 21:00:00  326.861133  \n",
       " 2022-06-25 22:00:00  390.161456  \n",
       " 2022-06-25 23:00:00  347.412686  \n",
       " \n",
       " [148 rows x 7 columns],\n",
       " 803.0:                      count   min     max        mean         std  median  \\\n",
       " timecentral                                                                \n",
       " 2022-06-19 00:00:00    238   2.7   381.8  156.122689  101.118888  153.85   \n",
       " 2022-06-19 05:00:00     39  24.8   182.4   77.010256   74.802631   24.80   \n",
       " 2022-06-19 06:00:00    932   0.0   409.2  114.080258  119.671263   68.40   \n",
       " 2022-06-19 07:00:00   1756   0.0   966.7  149.861105  121.967892  121.40   \n",
       " 2022-06-19 08:00:00   1863   0.0  1152.6  139.700966  129.961661  123.60   \n",
       " ...                    ...   ...     ...         ...         ...     ...   \n",
       " 2022-06-25 19:00:00   3090   0.1  1656.1  216.401812  300.622231  106.30   \n",
       " 2022-06-25 20:00:00   1621   0.3   615.4  158.026280  125.002466  134.50   \n",
       " 2022-06-25 21:00:00   1569   0.1  2397.0  184.559018  186.506493  153.80   \n",
       " 2022-06-25 22:00:00   1580   0.6  1095.9  232.358291  192.023475  196.15   \n",
       " 2022-06-25 23:00:00   1105   0.1  1531.3  211.281448  211.613904  166.80   \n",
       " \n",
       "                             mad  \n",
       " timecentral                      \n",
       " 2022-06-19 00:00:00   86.103361  \n",
       " 2022-06-19 05:00:00   69.613675  \n",
       " 2022-06-19 06:00:00  100.621235  \n",
       " 2022-06-19 07:00:00   87.902157  \n",
       " 2022-06-19 08:00:00   82.481832  \n",
       " ...                         ...  \n",
       " 2022-06-25 19:00:00  194.281867  \n",
       " 2022-06-25 20:00:00   97.031915  \n",
       " 2022-06-25 21:00:00  116.541933  \n",
       " 2022-06-25 22:00:00  145.033041  \n",
       " 2022-06-25 23:00:00  148.527001  \n",
       " \n",
       " [147 rows x 7 columns]}"
      ]
     },
     "execution_count": 70,
     "metadata": {},
     "output_type": "execute_result"
    }
   ],
   "source": [
    "stat_list = ['count','min','max','mean','std','median','mad']\n",
    "\n",
    "stats = {}\n",
    "\n",
    "with warnings.catch_warnings():\n",
    "    warnings.simplefilter('ignore') # ignore dataframe generation warnings\n",
    "    for route in routes:\n",
    "        stats[route] = gap_df[gap_df['routeid']==route].groupby('timecentral').agg(stat_list)['gap']\n",
    "    \n",
    "stats"
   ]
  },
  {
   "cell_type": "code",
   "execution_count": 73,
   "id": "0b4eda1e",
   "metadata": {},
   "outputs": [
    {
     "name": "stdout",
     "output_type": "stream",
     "text": [
      "Plotting Statistics for Route 7.0\n",
      "Plotting Statistics for Route 10.0\n",
      "Plotting Statistics for Route 20.0\n",
      "Plotting Statistics for Route 801.0\n",
      "Plotting Statistics for Route 803.0\n"
     ]
    },
    {
     "data": {
      "text/plain": [
       "<Figure size 720x360 with 0 Axes>"
      ]
     },
     "metadata": {},
     "output_type": "display_data"
    },
    {
     "data": {
      "text/plain": [
       "<Figure size 720x360 with 0 Axes>"
      ]
     },
     "metadata": {},
     "output_type": "display_data"
    },
    {
     "data": {
      "text/plain": [
       "<Figure size 720x360 with 0 Axes>"
      ]
     },
     "metadata": {},
     "output_type": "display_data"
    },
    {
     "data": {
      "text/plain": [
       "<Figure size 720x360 with 0 Axes>"
      ]
     },
     "metadata": {},
     "output_type": "display_data"
    },
    {
     "data": {
      "text/plain": [
       "<Figure size 720x360 with 0 Axes>"
      ]
     },
     "metadata": {},
     "output_type": "display_data"
    }
   ],
   "source": [
    "for route in routes:\n",
    "    plot_df = stats.get(route)\n",
    "    print(f\"Plotting Statistics for Route {route}\")\n",
    "\n",
    "    f,ax = plt.subplots(figsize=(10,5))\n",
    "\n",
    "    for stat in stat_list:\n",
    "        ax.plot(plot_df.index, plot_df[stat], label=stat)\n",
    "\n",
    "    ax.fill_between(plot_df.index, plot_df['mean'] - plot_df['std'], plot_df['mean'] + plot_df['std'], \\\n",
    "                    color='lightgrey', label='1-std')\n",
    "\n",
    "    title = f'Route {str(route)}: Gap Statistics \\n{plot_df.index.min().date()} to {plot_df.index.max().date()}'\n",
    "\n",
    "    ax.set_title(title)\n",
    "    ax.set_xlabel('Time')\n",
    "    ax.set_ylabel('Headway Gap')\n",
    "    ax.grid()\n",
    "    ax.legend()\n",
    "    ax.set_ylim(bottom=0)\n",
    "    \n",
    "    # Save figure\n",
    "    f.savefig(f\"../Presentation/Visuals/\" + str(route) +\"_route_stats.png\", bbox_inches='tight', dpi = 300, transparent=True)\n",
    "    f.clf();"
   ]
  },
  {
   "cell_type": "code",
   "execution_count": 80,
   "id": "153ea56d",
   "metadata": {},
   "outputs": [
    {
     "data": {
      "text/plain": [
       "<Figure size 720x360 with 0 Axes>"
      ]
     },
     "metadata": {},
     "output_type": "display_data"
    }
   ],
   "source": [
    "nroute= 7\n",
    "\n",
    "plot_df = stats.get(nroute)\n",
    "f,ax = plt.subplots(figsize=(10,5))\n",
    "\n",
    "for stat in stat_list:\n",
    "    ax.plot(plot_df.index, plot_df[stat], label=stat)\n",
    "\n",
    "ax.fill_between(plot_df.index, plot_df['mean'] - plot_df['std'], plot_df['mean'] + plot_df['std'], \\\n",
    "                color='lightgrey', label='1-std')\n",
    "\n",
    "title = f'Route {str(nroute)}: Gap Statistics \\n{plot_df.index.min().date()} to {plot_df.index.max().date()}'\n",
    "\n",
    "ax.set_title(title)\n",
    "ax.set_xlabel('Time')\n",
    "ax.set_ylabel('Headway Gap')\n",
    "ax.grid()\n",
    "ax.legend()\n",
    "ax.set_ylim(bottom=0)\n",
    "    \n",
    "# Save figure\n",
    "f.savefig(f\"../Presentation/Visuals/\" + str(nroute) +\"_route_stats.png\", bbox_inches='tight', dpi = 300, transparent=True)\n",
    "f.clf();"
   ]
  },
  {
   "cell_type": "code",
   "execution_count": null,
   "id": "d0a0e67e",
   "metadata": {},
   "outputs": [],
   "source": []
  }
 ],
 "metadata": {
  "kernelspec": {
   "display_name": "geo_env",
   "language": "python",
   "name": "geo_env"
  },
  "language_info": {
   "codemirror_mode": {
    "name": "ipython",
    "version": 3
   },
   "file_extension": ".py",
   "mimetype": "text/x-python",
   "name": "python",
   "nbconvert_exporter": "python",
   "pygments_lexer": "ipython3",
   "version": "3.10.4"
  }
 },
 "nbformat": 4,
 "nbformat_minor": 5
}
