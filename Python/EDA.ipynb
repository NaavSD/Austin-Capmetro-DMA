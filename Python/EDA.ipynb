{
 "cells": [
  {
   "cell_type": "markdown",
   "id": "4160f5af",
   "metadata": {},
   "source": [
    "# Exploratory Analysis\n",
    "### The following code is for exploratory analysis of Capital Metro Austin vehicle location data."
   ]
  },
  {
   "cell_type": "code",
   "execution_count": 24,
   "id": "0eefe6e0",
   "metadata": {},
   "outputs": [],
   "source": [
    "# import useful libraries\n",
    "import os\n",
    "import glob\n",
    "from datetime import datetime\n",
    "import numpy as np\n",
    "import matplotlib.pyplot as plt\n",
    "import pandas as pd\n",
    "import geopandas as gpd\n",
    "from dateutil.relativedelta import relativedelta as rdelta\n",
    "import contextily as ctx\n",
    "import hvplot.pandas\n",
    "import warnings"
   ]
  },
  {
   "cell_type": "code",
   "execution_count": 66,
   "id": "ebe28f75",
   "metadata": {},
   "outputs": [],
   "source": [
    "# Pull data from csv files\n",
    "\n",
    "path = r'../00_Source_Data/Vehicle_Location_History' # use your path\n",
    "all_files = glob.glob(os.path.join(path , \"*.csv\"))\n",
    "\n",
    "li = []\n",
    "\n",
    "with warnings.catch_warnings():\n",
    "    warnings.simplefilter('ignore') # ignore dataframe generation warnings\n",
    "    for filename in all_files:\n",
    "        df = pd.read_csv(filename, index_col=None, header=0)\n",
    "        li.append(df)\n",
    "\n",
    "frame = pd.concat(li, axis=0, ignore_index=True)"
   ]
  },
  {
   "cell_type": "code",
   "execution_count": 68,
   "id": "fac985bb",
   "metadata": {
    "scrolled": true
   },
   "outputs": [
    {
     "data": {
      "text/plain": [
       "Index(['blockassignmentinfo', 'blockid', 'blockmthd', 'directionid',\n",
       "       'distancealongstoppath', 'driver', 'gtfsstopsequence', 'heading',\n",
       "       'headsign', 'headwaysecs', 'id', 'ispredictable', 'lat', 'lon',\n",
       "       'nextstopid', 'nextstopname', 'previousvehicleid',\n",
       "       'previousvehicleschadhsecs', 'previousvehicleschadhstr', 'routeid',\n",
       "       'routename', 'routeshortname', 'schadhsecs', 'schadhstr',\n",
       "       'scheduledheadwaysecs', 'servicedate', 'serviceid', 'servicename',\n",
       "       'speed', 'stoppathindex', 'timecentral', 'timestamp', 'timeutc',\n",
       "       'tripid', 'trippattern', 'vehicletype', 'year', 'month', '_Start_Date',\n",
       "       '_End_Date'],\n",
       "      dtype='object')"
      ]
     },
     "execution_count": 68,
     "metadata": {},
     "output_type": "execute_result"
    }
   ],
   "source": [
    "frame.columns"
   ]
  },
  {
   "cell_type": "code",
   "execution_count": 76,
   "id": "622ffeaf",
   "metadata": {},
   "outputs": [
    {
     "data": {
      "text/plain": [
       "serviceid      \n",
       "1-153_MRG_1        3094741\n",
       "4-153_MRG_1         494169\n",
       "5-153_MRG_1         441311\n",
       "5001-153_MRG_1      207331\n",
       "39101-153            25799\n",
       "55004-153_MRG_1      15288\n",
       "39201-153             8300\n",
       "4-153_MRG_3           5750\n",
       "26201-153             2410\n",
       "26104-153             2089\n",
       "40801-153             1157\n",
       "14001-153              578\n",
       "14101-153              509\n",
       "15504-153              353\n",
       "dtype: int64"
      ]
     },
     "execution_count": 76,
     "metadata": {},
     "output_type": "execute_result"
    }
   ],
   "source": [
    "frame[['serviceid']].value_counts()"
   ]
  },
  {
   "cell_type": "markdown",
   "id": "08de1d66",
   "metadata": {},
   "source": [
    "Not sure if these service ids are unique to the vehicle. \\\n",
    "There is some confusion about 4-153_MRG_1 and 4-153_MRG_3 as these may be the same bus.\\\n",
    "Would need to clarify definitions with Michael Long."
   ]
  },
  {
   "cell_type": "code",
   "execution_count": 83,
   "id": "b2aaa628",
   "metadata": {},
   "outputs": [
    {
     "data": {
      "text/plain": [
       "routeshortname\n",
       "801.0             324229\n",
       "10.0              275967\n",
       "803.0             263498\n",
       "7.0               239905\n",
       "20.0              229785\n",
       "                   ...  \n",
       "491.0               1976\n",
       "493.0               1157\n",
       "490.0               1087\n",
       "214.0                372\n",
       "990.0                184\n",
       "Length: 76, dtype: int64"
      ]
     },
     "execution_count": 83,
     "metadata": {},
     "output_type": "execute_result"
    }
   ],
   "source": [
    "frame[['routeshortname']].value_counts()"
   ]
  },
  {
   "cell_type": "code",
   "execution_count": 93,
   "id": "7f93fbe9",
   "metadata": {},
   "outputs": [
    {
     "name": "stdout",
     "output_type": "stream",
     "text": [
      "5387.0 , -14412.0\n"
     ]
    }
   ],
   "source": [
    "print(frame[['previousvehicleschadhsecs']].max()[0],',', frame[['previousvehicleschadhsecs']].min()[0])"
   ]
  },
  {
   "cell_type": "code",
   "execution_count": 94,
   "id": "63449e74",
   "metadata": {},
   "outputs": [
    {
     "name": "stdout",
     "output_type": "stream",
     "text": [
      "57840.0 , 12.0\n"
     ]
    }
   ],
   "source": [
    "print(frame[['scheduledheadwaysecs']].max()[0],',', frame[['scheduledheadwaysecs']].min()[0])"
   ]
  },
  {
   "cell_type": "code",
   "execution_count": null,
   "id": "8764283d",
   "metadata": {},
   "outputs": [],
   "source": []
  }
 ],
 "metadata": {
  "kernelspec": {
   "display_name": "geo_env",
   "language": "python",
   "name": "geo_env"
  },
  "language_info": {
   "codemirror_mode": {
    "name": "ipython",
    "version": 3
   },
   "file_extension": ".py",
   "mimetype": "text/x-python",
   "name": "python",
   "nbconvert_exporter": "python",
   "pygments_lexer": "ipython3",
   "version": "3.10.5"
  }
 },
 "nbformat": 4,
 "nbformat_minor": 5
}
