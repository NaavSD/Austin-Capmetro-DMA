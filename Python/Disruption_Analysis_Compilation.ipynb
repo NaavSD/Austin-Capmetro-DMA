{
 "cells": [
  {
   "cell_type": "markdown",
   "id": "a66fe094",
   "metadata": {},
   "source": [
    "# Disruption Analysis Compilation\n",
    "\n",
    "#### File preparation for ArcGIS Analysis\n",
    "\n",
    "Here we will prepare original source Vehicle Location History files for disruption analysis in ArcGIS with the workflow outlined below:\n",
    "\n",
    "- import and slice CSV file(s) to result in dataframe with only relevant fields to analysis.\n",
    "- Construct dataframe datetime fields\n",
    "- Construct disruption index functions for generating a disruption index field in the dataframe.\n",
    "- Export the dataframe to a new CSV file for spatial analysis in GIS.\n",
    "\n",
    "The processes will be outlined in more detail in their own sections."
   ]
  },
  {
   "cell_type": "code",
   "execution_count": 1,
   "id": "bcdc1688",
   "metadata": {},
   "outputs": [],
   "source": [
    "# Importing relevant libraries\n",
    "import pandas as pd\n",
    "import os\n",
    "import glob\n",
    "import numpy as np\n",
    "import warnings\n",
    "from datetime import datetime"
   ]
  },
  {
   "cell_type": "markdown",
   "id": "956dda08",
   "metadata": {},
   "source": [
    "## Import Data\n",
    "\n",
    "File data will be imported from CSVs provided by Michael Long at Capital Metropolitan Transportation Authority. Initial data will not be provided and subsequent data will be stripped of identifiers for bus and driver identification. The only relevant data for our analysis lies in the headway time of vehicles, and time and location of record. "
   ]
  },
  {
   "cell_type": "code",
   "execution_count": 2,
   "id": "024c8053",
   "metadata": {},
   "outputs": [],
   "source": [
    "# Setting up path vars.\n",
    "path = r'../00_Source_Data/Capital_Metro/Vehicle_Location_History' # Relative source file path\n",
    "all_files = glob.glob(os.path.join(path , \"*.csv\")) # all files"
   ]
  },
  {
   "cell_type": "code",
   "execution_count": 3,
   "id": "ad42ff00",
   "metadata": {},
   "outputs": [],
   "source": [
    "# This block generates a list of dataframes where each item in the list is one file.\n",
    "li = []\n",
    "\n",
    "with warnings.catch_warnings():\n",
    "    warnings.simplefilter('ignore') # ignore dataframe generation warnings\n",
    "    for filename in all_files:\n",
    "        df = pd.read_csv(filename, index_col=None, header=0)\n",
    "        li.append(df)"
   ]
  },
  {
   "cell_type": "markdown",
   "id": "a7a48107",
   "metadata": {},
   "source": [
    "## Construct the Dataframe\n",
    "\n",
    "We concatenate the list of dataframes from all files in the `Vehicle_Location_History` folder into a single dataframe and slice that dataframe to contain just the information we need for analysis."
   ]
  },
  {
   "cell_type": "code",
   "execution_count": 4,
   "id": "7016b235",
   "metadata": {},
   "outputs": [],
   "source": [
    "# This block generates a dataframe with all data from the files stored in the source file path.\n",
    "\n",
    "frame = pd.concat(li, axis=0, ignore_index=True)"
   ]
  },
  {
   "cell_type": "markdown",
   "id": "9955f210",
   "metadata": {},
   "source": [
    "#### Formatting the Dataframe\n",
    "\n",
    "The new dataframe we're interested in only needs the following fields:\n",
    "- **timecentral**: Datetime at CST formatted as YYYYMMHHmmssss\n",
    "- **lat**: Latitude the reading was taken at in WKID 4326 or WGS 1984\n",
    "- **lon**: Longitude the reading was taken at in WKID 4326 or WGS 1984\n",
    "- **headwaysecs**: Headway reading in seconds\n",
    "- **scheduledheadwaysecs**: Planned headway in seconds\n",
    "\n",
    "Fields that will be added later will be explained in the Disruption Index section."
   ]
  },
  {
   "cell_type": "code",
   "execution_count": 5,
   "id": "6b7b81a1",
   "metadata": {},
   "outputs": [],
   "source": [
    "# Saving just the fields we're interested in and removing the original data from memory.\n",
    "data = frame[['timecentral', 'lat', 'lon', 'headwaysecs', 'scheduledheadwaysecs']]\n",
    "del frame, li, path, all_files, df"
   ]
  },
  {
   "cell_type": "markdown",
   "id": "f13cd6e4",
   "metadata": {},
   "source": [
    "#### Converting to Datetime\n",
    "\n",
    "Our current time field is formatted as an integer. In order to use the time values we will want to convert them into a datetime object. The current format is `20220625185013`: \\\n",
    "`2022` - `%Y` Year with century as a decimal \\\n",
    "`06`   - `%m` Month as a zero-padded decimal \\\n",
    "`25`   - `%d` Day of the month as a zero-padded decimal \\\n",
    "`18`   - `%H` Hour (24-hour clock) as a zero-padded decimal \\\n",
    "`50`   - `%M` Minute as a zero-padded decimal \\\n",
    "`13`   - `%S` Second as a zero-padded decimal\n",
    "\n",
    "So the format to change into datetime is `%Y%m%d%H%M%S`\n",
    "\n",
    "We can aggregate the records of the data in the requested time intervals, taking the mean location (`lat`, `lon`), mean headway values (`headwaysecs`) and the mean `disruption index` later."
   ]
  },
  {
   "cell_type": "code",
   "execution_count": 6,
   "id": "02a14678",
   "metadata": {
    "scrolled": false
   },
   "outputs": [
    {
     "data": {
      "text/plain": [
       "0   2022-06-19 00:00:23\n",
       "1   2022-06-19 00:00:03\n",
       "2   2022-06-19 00:00:16\n",
       "3   2022-06-19 00:00:48\n",
       "4   2022-06-19 00:00:43\n",
       "Name: timecentral, dtype: datetime64[ns]"
      ]
     },
     "execution_count": 6,
     "metadata": {},
     "output_type": "execute_result"
    }
   ],
   "source": [
    "# Lets convert the integer times into datetime objects\n",
    "\n",
    "data['timecentral'] = pd.to_datetime(data['timecentral'], format='%Y%m%d%H%M%S')\n",
    "\n",
    "data['timecentral'].head()"
   ]
  },
  {
   "cell_type": "code",
   "execution_count": 30,
   "id": "987e8c6f",
   "metadata": {},
   "outputs": [],
   "source": [
    "# Lets remove rows with NaN values for `headwaysecs` as they will not be useful for our analysis\n",
    "\n",
    "data = data[data['headwaysecs'].notna()]\n",
    "data = data[data['scheduledheadwaysecs'].notna()]"
   ]
  },
  {
   "cell_type": "code",
   "execution_count": 31,
   "id": "fc10c3e6",
   "metadata": {
    "scrolled": true
   },
   "outputs": [
    {
     "name": "stdout",
     "output_type": "stream",
     "text": [
      "7199.8 , 0.0\n"
     ]
    }
   ],
   "source": [
    "print(data[['headwaysecs']].max()[0],',', data[['headwaysecs']].min()[0])"
   ]
  },
  {
   "cell_type": "code",
   "execution_count": 32,
   "id": "a6bfcf6f",
   "metadata": {},
   "outputs": [
    {
     "name": "stdout",
     "output_type": "stream",
     "text": [
      "7680.0 , 34.0\n"
     ]
    }
   ],
   "source": [
    "print(data[['scheduledheadwaysecs']].max()[0],',', data[['scheduledheadwaysecs']].min()[0])"
   ]
  },
  {
   "cell_type": "code",
   "execution_count": 38,
   "id": "3febeb8d",
   "metadata": {},
   "outputs": [
    {
     "name": "stdout",
     "output_type": "stream",
     "text": [
      "False    4129586\n",
      "Name: headwaysecs, dtype: int64\n",
      "False    4129586\n",
      "Name: scheduledheadwaysecs, dtype: int64\n"
     ]
    }
   ],
   "source": [
    "# Check to make sure it worked\n",
    "print(data['headwaysecs'].isna().value_counts())\n",
    "print(data['scheduledheadwaysecs'].isna().value_counts())"
   ]
  },
  {
   "cell_type": "markdown",
   "id": "1ada572e",
   "metadata": {},
   "source": [
    "## Construct Disruption Index\n",
    "\n",
    "In this section, we will create new fields for the disruption indices and calculate them based on the work of Federico Malucelli and Emanuele Tresoldi in their case study. DOI: [s12469-019-00196-y](https://link.springer.com/article/10.1007/s12469-019-00196-y)\n",
    "\n",
    "The fields we will construct are: \\\n",
    "`HR`     - Headway Ratio: the ratio between the observed headway and the planned one. \\\n",
    "`HS`     - Headway Standard Deviation: standard deviation of the difference between the observed and the planned headways \\\n",
    "`PR`     - Percentage Regularity Deviation: the percentage average ratio between the deviation of the observed headway from the planned one and the planned headway. \\\n",
    "`PW`     - Piece-wise linear regularity index\n",
    "\n",
    "\n"
   ]
  },
  {
   "cell_type": "markdown",
   "id": "fff47963",
   "metadata": {},
   "source": [
    "First, we will define a frequency with which to do our sampling. For a list of the appropriate strings to enter into the frequency variable please see [here](https://pandas.pydata.org/pandas-docs/stable/user_guide/timeseries.html#offset-aliases)."
   ]
  },
  {
   "cell_type": "code",
   "execution_count": null,
   "id": "cb360bc2",
   "metadata": {},
   "outputs": [],
   "source": [
    "# Define a frequency to sample the data with.\n",
    "freq='H'"
   ]
  },
  {
   "cell_type": "code",
   "execution_count": 34,
   "id": "602abf52",
   "metadata": {},
   "outputs": [],
   "source": [
    "# Before we an do any calculations that require time intervals, we need to calculate the gap of every record.\n",
    "# For this, we'll create a new field `gap` that will simply be the difference between the `headwaysecs` and\n",
    "# the `scheduledheadwaysecs`.\n",
    "\n",
    "data['gap'] = data['headwaysecs'] - data['scheduledheadwaysecs']\n",
    "\n",
    "# We also need a field of values that will give us the ratio of observed to expected headways. We'll call this\n",
    "# field `headwayratio`.\n",
    "\n",
    "data['headwayratio'] = data['headwaysecs']/data['scheduledheadwaysecs']"
   ]
  },
  {
   "cell_type": "code",
   "execution_count": 39,
   "id": "96b755de",
   "metadata": {},
   "outputs": [
    {
     "data": {
      "text/html": [
       "<div>\n",
       "<style scoped>\n",
       "    .dataframe tbody tr th:only-of-type {\n",
       "        vertical-align: middle;\n",
       "    }\n",
       "\n",
       "    .dataframe tbody tr th {\n",
       "        vertical-align: top;\n",
       "    }\n",
       "\n",
       "    .dataframe thead th {\n",
       "        text-align: right;\n",
       "    }\n",
       "</style>\n",
       "<table border=\"1\" class=\"dataframe\">\n",
       "  <thead>\n",
       "    <tr style=\"text-align: right;\">\n",
       "      <th></th>\n",
       "      <th>lat</th>\n",
       "      <th>lon</th>\n",
       "      <th>headwaysecs</th>\n",
       "      <th>scheduledheadwaysecs</th>\n",
       "      <th>gap</th>\n",
       "      <th>headwayratio</th>\n",
       "    </tr>\n",
       "    <tr>\n",
       "      <th>timecentral</th>\n",
       "      <th></th>\n",
       "      <th></th>\n",
       "      <th></th>\n",
       "      <th></th>\n",
       "      <th></th>\n",
       "      <th></th>\n",
       "    </tr>\n",
       "  </thead>\n",
       "  <tbody>\n",
       "    <tr>\n",
       "      <th>2022-06-19 00:00:00</th>\n",
       "      <td>30.293191</td>\n",
       "      <td>-97.737928</td>\n",
       "      <td>1687.359947</td>\n",
       "      <td>1693.142857</td>\n",
       "      <td>-5.782910</td>\n",
       "      <td>1.006356</td>\n",
       "    </tr>\n",
       "    <tr>\n",
       "      <th>2022-06-19 01:00:00</th>\n",
       "      <td>30.295484</td>\n",
       "      <td>-97.738471</td>\n",
       "      <td>1686.653455</td>\n",
       "      <td>1715.270608</td>\n",
       "      <td>-28.617152</td>\n",
       "      <td>0.980554</td>\n",
       "    </tr>\n",
       "    <tr>\n",
       "      <th>2022-06-19 02:00:00</th>\n",
       "      <td>30.278059</td>\n",
       "      <td>-97.737004</td>\n",
       "      <td>1732.625760</td>\n",
       "      <td>1692.547033</td>\n",
       "      <td>40.078726</td>\n",
       "      <td>1.020753</td>\n",
       "    </tr>\n",
       "    <tr>\n",
       "      <th>2022-06-19 03:00:00</th>\n",
       "      <td>30.279623</td>\n",
       "      <td>-97.735773</td>\n",
       "      <td>1741.818209</td>\n",
       "      <td>1710.132159</td>\n",
       "      <td>31.686050</td>\n",
       "      <td>1.019602</td>\n",
       "    </tr>\n",
       "    <tr>\n",
       "      <th>2022-06-19 04:00:00</th>\n",
       "      <td>NaN</td>\n",
       "      <td>NaN</td>\n",
       "      <td>NaN</td>\n",
       "      <td>NaN</td>\n",
       "      <td>NaN</td>\n",
       "      <td>NaN</td>\n",
       "    </tr>\n",
       "    <tr>\n",
       "      <th>...</th>\n",
       "      <td>...</td>\n",
       "      <td>...</td>\n",
       "      <td>...</td>\n",
       "      <td>...</td>\n",
       "      <td>...</td>\n",
       "      <td>...</td>\n",
       "    </tr>\n",
       "    <tr>\n",
       "      <th>2022-06-25 19:00:00</th>\n",
       "      <td>30.291210</td>\n",
       "      <td>-97.732976</td>\n",
       "      <td>1465.227817</td>\n",
       "      <td>1405.872931</td>\n",
       "      <td>59.354886</td>\n",
       "      <td>1.085319</td>\n",
       "    </tr>\n",
       "    <tr>\n",
       "      <th>2022-06-25 20:00:00</th>\n",
       "      <td>30.292363</td>\n",
       "      <td>-97.732183</td>\n",
       "      <td>1667.768094</td>\n",
       "      <td>1610.051929</td>\n",
       "      <td>57.716165</td>\n",
       "      <td>1.050490</td>\n",
       "    </tr>\n",
       "    <tr>\n",
       "      <th>2022-06-25 21:00:00</th>\n",
       "      <td>30.292783</td>\n",
       "      <td>-97.734055</td>\n",
       "      <td>1752.594771</td>\n",
       "      <td>1702.955922</td>\n",
       "      <td>49.638849</td>\n",
       "      <td>1.035930</td>\n",
       "    </tr>\n",
       "    <tr>\n",
       "      <th>2022-06-25 22:00:00</th>\n",
       "      <td>30.292943</td>\n",
       "      <td>-97.735064</td>\n",
       "      <td>1697.509141</td>\n",
       "      <td>1664.296605</td>\n",
       "      <td>33.212536</td>\n",
       "      <td>1.021047</td>\n",
       "    </tr>\n",
       "    <tr>\n",
       "      <th>2022-06-25 23:00:00</th>\n",
       "      <td>30.290101</td>\n",
       "      <td>-97.735207</td>\n",
       "      <td>1702.841482</td>\n",
       "      <td>1637.555621</td>\n",
       "      <td>65.285861</td>\n",
       "      <td>1.038738</td>\n",
       "    </tr>\n",
       "  </tbody>\n",
       "</table>\n",
       "<p>168 rows × 6 columns</p>\n",
       "</div>"
      ],
      "text/plain": [
       "                           lat        lon  headwaysecs  scheduledheadwaysecs  \\\n",
       "timecentral                                                                    \n",
       "2022-06-19 00:00:00  30.293191 -97.737928  1687.359947           1693.142857   \n",
       "2022-06-19 01:00:00  30.295484 -97.738471  1686.653455           1715.270608   \n",
       "2022-06-19 02:00:00  30.278059 -97.737004  1732.625760           1692.547033   \n",
       "2022-06-19 03:00:00  30.279623 -97.735773  1741.818209           1710.132159   \n",
       "2022-06-19 04:00:00        NaN        NaN          NaN                   NaN   \n",
       "...                        ...        ...          ...                   ...   \n",
       "2022-06-25 19:00:00  30.291210 -97.732976  1465.227817           1405.872931   \n",
       "2022-06-25 20:00:00  30.292363 -97.732183  1667.768094           1610.051929   \n",
       "2022-06-25 21:00:00  30.292783 -97.734055  1752.594771           1702.955922   \n",
       "2022-06-25 22:00:00  30.292943 -97.735064  1697.509141           1664.296605   \n",
       "2022-06-25 23:00:00  30.290101 -97.735207  1702.841482           1637.555621   \n",
       "\n",
       "                           gap  headwayratio  \n",
       "timecentral                                   \n",
       "2022-06-19 00:00:00  -5.782910      1.006356  \n",
       "2022-06-19 01:00:00 -28.617152      0.980554  \n",
       "2022-06-19 02:00:00  40.078726      1.020753  \n",
       "2022-06-19 03:00:00  31.686050      1.019602  \n",
       "2022-06-19 04:00:00        NaN           NaN  \n",
       "...                        ...           ...  \n",
       "2022-06-25 19:00:00  59.354886      1.085319  \n",
       "2022-06-25 20:00:00  57.716165      1.050490  \n",
       "2022-06-25 21:00:00  49.638849      1.035930  \n",
       "2022-06-25 22:00:00  33.212536      1.021047  \n",
       "2022-06-25 23:00:00  65.285861      1.038738  \n",
       "\n",
       "[168 rows x 6 columns]"
      ]
     },
     "execution_count": 39,
     "metadata": {},
     "output_type": "execute_result"
    }
   ],
   "source": [
    "# Create the left side of the dataframe grouped in the chosen interval. \n",
    "# This will be concatenated with the calculated fields later and serve as the master dataframe that we'll export later.\n",
    "\n",
    "master_df = data.groupby(pd.Grouper(key='timecentral', freq=freq)).mean()\n",
    "master_df"
   ]
  },
  {
   "cell_type": "markdown",
   "id": "aa9cfbe3",
   "metadata": {},
   "source": [
    "#### Headway Statistic Functions\n",
    "\n",
    "Lets start by making the function that will generate the three statistical fields for our dataframe. These functions are as follows:\n",
    "$$ HR=1-\\bigg | \\dfrac{\\sum_{q \\in P} \\dfrac{v_o (q)}{v_e (q)}}{|P|} -1 \\bigg | = 1-\\bigg | \\dfrac{\\sum_{\\text{interval}} \\text{ratio}}{\\text{records in interval}} -1 \\bigg |\\\\\n",
    "HS=1- \\dfrac{\\text{std({$v_o (q), \\forall q \\in P$})}}{\\text{avg({$v_e (q), \\forall q \\in P$})}} \\\\\n",
    "PR=1- \\dfrac{\\sum_{q \\in P} \\dfrac{|v_o (q) - v_e (q)|}{v_e (q)}}{|P|} = 1- \\dfrac{\\sum_{\\text{interval}} \\dfrac{|\\text{gap}|}{v_e (q)}}{\\text{records in interval}}$$"
   ]
  },
  {
   "cell_type": "code",
   "execution_count": null,
   "id": "19367e2b",
   "metadata": {},
   "outputs": [],
   "source": [
    "# Here we define a function to calculate the headway ratio over a given interval of time.\n",
    "## Default sample interval is hourly. Interval should be in strftime format.\n",
    "\n",
    "def headway_stats(df, observed, expected, interval=\"H\"):\n",
    "    \n",
    "    "
   ]
  },
  {
   "cell_type": "markdown",
   "id": "59f4f058",
   "metadata": {},
   "source": [
    "First, lets consider the gap $x(q)$ in the planned $(v_e (q))$ and observed $(v_o (q))$ headways:\n",
    "$$ x(q) = v_o (q) - v_e (q) $$\n",
    "\n",
    "A negative value is an early pass and a positive value is a delay.\n",
    "\n",
    "Malucelli and Tresoldi then define the function of $f(x(q))$ of the gap as:\n",
    "$$\n",
    "f(x(q))=\n",
    "\\begin{cases}\n",
    "-\\alpha x(q) & \\quad \\text{if $x(q) < -\\theta_1$}\\\\\n",
    "0 & \\quad \\text{if $-\\theta_1 \\leq x(q) < \\theta_2$}\\\\\n",
    "\\beta x(q) & \\quad \\text{if $\\theta_2 \\leq x(q) < \\theta_3$}\\\\\n",
    "\\gamma x(q)+\\delta & \\quad \\text{if $\\theta_3 \\leq x(q)$}\\\\\n",
    "\\end{cases}\n",
    "$$\n",
    "\n",
    "Where $\\theta_1$, $\\theta_2$, $\\theta_3$ and $\\alpha, \\beta, \\gamma, \\delta$ are suitable parameters. The function is 0 if the pass is regular and is not 0 if the pass is irregular. We can ignore contributions of earliness on the index by setting $\\alpha = 0$. Likewise, if we set all coefficients to 0 and $\\delta = 1$ we are left with the simple index the Azienda Trasporti Milanesi used at the writing of their paper. Values where $x(q) \\geq \\theta_3$ are intended to penalize large gaps more than the equivlent sum of small gaps.\n",
    "\n",
    "Thus the index of regularity based on Malucelli and Tresoldi's piece-wise function is:\n",
    "$$\n",
    "I(PW)= \\sum_{q \\in P} f(x(q))\n",
    "$$\n",
    "\n",
    "Where $P$ is the set of all passes in a given period.\n",
    "\n",
    "In consideration of time, we will only be constructing the piece-wise function from Malucelli and Tresoldi and using its related index for the purposes of analysis."
   ]
  },
  {
   "cell_type": "code",
   "execution_count": null,
   "id": "17f637d8",
   "metadata": {},
   "outputs": [],
   "source": [
    "# Here we define a function to calculate the gap of a given record.\n",
    "## The Default values are set to the simple index with a 2 minute threshhold of irregularity.\n",
    "\n",
    "def PW_Index(observed, expected, alpha=0, beta=0, gamma=0, delta=1, late=-180, early=180):\n",
    "    if observed - expected"
   ]
  }
 ],
 "metadata": {
  "kernelspec": {
   "display_name": "geo_env",
   "language": "python",
   "name": "geo_env"
  },
  "language_info": {
   "codemirror_mode": {
    "name": "ipython",
    "version": 3
   },
   "file_extension": ".py",
   "mimetype": "text/x-python",
   "name": "python",
   "nbconvert_exporter": "python",
   "pygments_lexer": "ipython3",
   "version": "3.10.4"
  }
 },
 "nbformat": 4,
 "nbformat_minor": 5
}
