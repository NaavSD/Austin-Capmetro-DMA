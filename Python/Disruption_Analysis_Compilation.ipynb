{
 "cells": [
  {
   "cell_type": "markdown",
   "id": "a66fe094",
   "metadata": {},
   "source": [
    "# Disruption Analysis Compilation\n",
    "\n",
    "#### File preparation for ArcGIS Analysis\n",
    "\n",
    "Here we will prepare original source Vehicle Location History files for disruption analysis in ArcGIS with the workflow outlined below:\n",
    "\n",
    "- import and slice CSV file(s) to result in dataframe with only relevant fields to analysis.\n",
    "- Construct dataframe datetime fields\n",
    "- Construct disruption index functions for generating a disruption index field in the dataframe.\n",
    "- Export the dataframe to a new CSV file for spatial analysis in GIS.\n",
    "\n",
    "The processes will be outlined in more detail in their own sections."
   ]
  },
  {
   "cell_type": "code",
   "execution_count": 2,
   "id": "bcdc1688",
   "metadata": {},
   "outputs": [],
   "source": [
    "# Importing relevant libraries\n",
    "import pandas as pd\n",
    "import os\n",
    "import glob\n",
    "import numpy as np\n",
    "import warnings\n",
    "from datetime import datetime"
   ]
  },
  {
   "cell_type": "markdown",
   "id": "956dda08",
   "metadata": {},
   "source": [
    "## Import Data\n",
    "\n",
    "File data will be imported from CSVs provided by Michael Long at Capital Metropolitan Transportation Authority. Initial data will not be provided and subsequent data will be stripped of identifiers for bus and driver identification. The only relevant data for our analysis lies in the headway time of vehicles, and time and location of record. "
   ]
  },
  {
   "cell_type": "code",
   "execution_count": 3,
   "id": "024c8053",
   "metadata": {},
   "outputs": [],
   "source": [
    "# Setting up path vars.\n",
    "path = r'../00_Source_Data/Capital_Metro/Vehicle_Location_History' # Relative source file path\n",
    "all_files = glob.glob(os.path.join(path , \"*.csv\")) # all files"
   ]
  },
  {
   "cell_type": "code",
   "execution_count": 4,
   "id": "ad42ff00",
   "metadata": {},
   "outputs": [],
   "source": [
    "# This block generates a list of dataframes where each item in the list is one file.\n",
    "li = []\n",
    "\n",
    "with warnings.catch_warnings():\n",
    "    warnings.simplefilter('ignore') # ignore dataframe generation warnings\n",
    "    for filename in all_files:\n",
    "        df = pd.read_csv(filename, index_col=None, header=0)\n",
    "        li.append(df)"
   ]
  },
  {
   "cell_type": "code",
   "execution_count": 5,
   "id": "7016b235",
   "metadata": {},
   "outputs": [],
   "source": [
    "# This block generates a dataframe with all data from the files stored in the source file path.\n",
    "\n",
    "frame = pd.concat(li, axis=0, ignore_index=True)"
   ]
  },
  {
   "cell_type": "markdown",
   "id": "9955f210",
   "metadata": {},
   "source": [
    "#### Formatting the Dataframe\n",
    "\n",
    "The new dataframe we're interested in only needs the following fields:\n",
    "- **timecentral**: Datetime at CST formatted as YYYYMMHHmmssss\n",
    "- **lat**: Latitude the reading was taken at in WKID 4326 or WGS 1984\n",
    "- **lon**: Longitude the reading was taken at in WKID 4326 or WGS 1984\n",
    "- **headwaysecs**: Headway reading in seconds\n",
    "\n",
    "Fields that will be added later will be explained in the Disruption Index section."
   ]
  },
  {
   "cell_type": "code",
   "execution_count": 6,
   "id": "6b7b81a1",
   "metadata": {},
   "outputs": [],
   "source": [
    "data = frame[['timecentral', 'lat', 'lon', 'headwaysecs']]"
   ]
  },
  {
   "cell_type": "code",
   "execution_count": null,
   "id": "abd051f3",
   "metadata": {},
   "outputs": [],
   "source": []
  }
 ],
 "metadata": {
  "kernelspec": {
   "display_name": "geo_env",
   "language": "python",
   "name": "geo_env"
  },
  "language_info": {
   "codemirror_mode": {
    "name": "ipython",
    "version": 3
   },
   "file_extension": ".py",
   "mimetype": "text/x-python",
   "name": "python",
   "nbconvert_exporter": "python",
   "pygments_lexer": "ipython3",
   "version": "3.10.4"
  }
 },
 "nbformat": 4,
 "nbformat_minor": 5
}
